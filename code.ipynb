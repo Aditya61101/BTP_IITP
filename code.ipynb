{
  "cells": [
    {
      "cell_type": "code",
      "execution_count": null,
      "metadata": {
        "id": "UWwOJoA4ax9j"
      },
      "outputs": [],
      "source": [
        "import pandas as pd\n",
        "import numpy as np\n",
        "from sklearn.ensemble import RandomForestClassifier\n",
        "from sklearn.model_selection import train_test_split\n",
        "from sklearn.metrics import accuracy_score, classification_report"
      ]
    },
    {
      "cell_type": "code",
      "execution_count": null,
      "metadata": {
        "id": "XvoRF9CVax6F"
      },
      "outputs": [],
      "source": [
        "X_df = pd.read_excel(r\"/content/one_data.xlsx\")"
      ]
    },
    {
      "cell_type": "code",
      "source": [
        "X_df"
      ],
      "metadata": {
        "colab": {
          "base_uri": "https://localhost:8080/",
          "height": 443
        },
        "id": "uinArlDcEVuu",
        "outputId": "bc1739cc-8f41-4b41-e078-b5794d736c1d"
      },
      "execution_count": null,
      "outputs": [
        {
          "output_type": "execute_result",
          "data": {
            "text/plain": [
              "       Series_ID  Measurement_ID          Va_56          Vb_56          Vc_56  \\\n",
              "0              1               1  100628.299942 -186161.998809   85533.698755   \n",
              "1              1               2 -174856.647284  144363.624217   30493.023264   \n",
              "2              1               3  180109.180376  -47187.823384 -132921.357196   \n",
              "3              1               4 -116712.469422  -67950.562444  184663.032000   \n",
              "4              1               5    8815.918754  157116.495259 -165932.414026   \n",
              "...          ...             ...            ...            ...            ...   \n",
              "22039         44             497 -177580.000317   44172.853198  133407.147321   \n",
              "22040         44             498  113634.962094   69509.108047 -183144.070272   \n",
              "22041         44             499   -6514.557623 -156781.134816  163295.692449   \n",
              "22042         44             500 -103088.460092  184489.861603  -81401.401396   \n",
              "22043         44             501  173529.321979 -142108.208142  -31421.114033   \n",
              "\n",
              "             Ia_56        Ib_56        Ic_56          Va_67          Vb_67  \\\n",
              "0      1326.670586 -2498.403236  1171.732649   70812.684976 -183939.767009   \n",
              "1     -2346.135822  1954.874782   391.261040 -159669.641995  162445.965570   \n",
              "2      2416.651154  -659.057642 -1757.593513  185245.695798  -78255.251951   \n",
              "3     -1594.118000  -885.754191  2479.872191 -140183.805213  -35754.225527   \n",
              "4       140.123473  2094.313750 -2234.437223   41684.391729  136066.787921   \n",
              "...            ...          ...          ...            ...            ...   \n",
              "22039 -2427.295419   637.263899  1790.031521 -183073.491428   75480.453257   \n",
              "22040  1573.722987   912.482499 -2486.205486  137422.608407   37294.007348   \n",
              "22041  -122.906289 -2113.094606  2236.000894  -39528.368990 -135911.035492   \n",
              "22042 -1373.256085  2508.837153 -1135.581068  -73417.643206  182889.676688   \n",
              "22043  2345.169167 -1949.662631  -395.506537  158482.551501 -160366.137316   \n",
              "\n",
              "       ...         Vc_910       Ia_910       Ib_910       Ic_910  \\\n",
              "0      ...  179387.167346  -115.097764  4415.773169 -4300.675407   \n",
              "1      ... -109712.424679  3102.292487 -5003.104075  1900.811588   \n",
              "2      ...   -1505.302360 -4858.039315  3627.776318  1230.262999   \n",
              "3      ...  112138.044587  4740.622157  -883.807890 -3856.814271   \n",
              "4      ... -179965.295525 -2830.958052 -2210.081547  5041.039602   \n",
              "...    ...            ...          ...          ...          ...   \n",
              "22039  ...    -241.375979  4777.596408 -3652.465576 -1125.130835   \n",
              "22040  ... -110330.869079 -4688.239693   933.755254  3754.484442   \n",
              "22041  ...  178791.350686  2875.868473  2095.233525 -4971.102002   \n",
              "22042  ... -178986.427067   109.086376 -4378.277697  4269.191323   \n",
              "22043  ...  110856.794383 -2990.035537  4941.577280 -1951.541743   \n",
              "\n",
              "             Va_1011        Vb_1011        Vc_1011      Ia_1011      Ib_1011  \\\n",
              "0      -13255.639211 -154552.937197  167808.576443  -293.411560  2349.624149   \n",
              "1     -100951.019730  186893.313448  -85942.293632  1764.858338 -2502.632443   \n",
              "2      174237.191521 -146175.388439  -28061.803254 -2518.649730  1672.733239   \n",
              "3     -181046.965705   49702.823011  131344.142886  2327.186236  -216.603559   \n",
              "4      118849.920845   65664.237432 -184514.158416 -1232.152927 -1332.085688   \n",
              "...              ...            ...            ...          ...          ...   \n",
              "22039 -172928.890433  146924.579587   26004.311015  2473.217925 -1664.612752   \n",
              "22040  180934.202880  -51351.881549 -129582.321522 -2289.701338   232.377313   \n",
              "22041 -119865.167961  -63830.363195  183695.531296  1237.405069  1286.381030   \n",
              "22042   13003.860934  154627.684765 -167631.545735   294.393723 -2319.852901   \n",
              "22043   98866.577492 -186420.372964   87553.795390 -1710.514193  2464.307656   \n",
              "\n",
              "           Ic_1011  \n",
              "0     -2056.212589  \n",
              "1       737.774104  \n",
              "2       845.916491  \n",
              "3     -2110.582678  \n",
              "4      2564.238616  \n",
              "...            ...  \n",
              "22039  -808.605174  \n",
              "22040  2057.324025  \n",
              "22041 -2523.786100  \n",
              "22042  2025.459177  \n",
              "22043  -753.793463  \n",
              "\n",
              "[22044 rows x 32 columns]"
            ],
            "text/html": [
              "\n",
              "  <div id=\"df-3b43e1c3-e317-4148-8f75-c3baf4450baa\" class=\"colab-df-container\">\n",
              "    <div>\n",
              "<style scoped>\n",
              "    .dataframe tbody tr th:only-of-type {\n",
              "        vertical-align: middle;\n",
              "    }\n",
              "\n",
              "    .dataframe tbody tr th {\n",
              "        vertical-align: top;\n",
              "    }\n",
              "\n",
              "    .dataframe thead th {\n",
              "        text-align: right;\n",
              "    }\n",
              "</style>\n",
              "<table border=\"1\" class=\"dataframe\">\n",
              "  <thead>\n",
              "    <tr style=\"text-align: right;\">\n",
              "      <th></th>\n",
              "      <th>Series_ID</th>\n",
              "      <th>Measurement_ID</th>\n",
              "      <th>Va_56</th>\n",
              "      <th>Vb_56</th>\n",
              "      <th>Vc_56</th>\n",
              "      <th>Ia_56</th>\n",
              "      <th>Ib_56</th>\n",
              "      <th>Ic_56</th>\n",
              "      <th>Va_67</th>\n",
              "      <th>Vb_67</th>\n",
              "      <th>...</th>\n",
              "      <th>Vc_910</th>\n",
              "      <th>Ia_910</th>\n",
              "      <th>Ib_910</th>\n",
              "      <th>Ic_910</th>\n",
              "      <th>Va_1011</th>\n",
              "      <th>Vb_1011</th>\n",
              "      <th>Vc_1011</th>\n",
              "      <th>Ia_1011</th>\n",
              "      <th>Ib_1011</th>\n",
              "      <th>Ic_1011</th>\n",
              "    </tr>\n",
              "  </thead>\n",
              "  <tbody>\n",
              "    <tr>\n",
              "      <th>0</th>\n",
              "      <td>1</td>\n",
              "      <td>1</td>\n",
              "      <td>100628.299942</td>\n",
              "      <td>-186161.998809</td>\n",
              "      <td>85533.698755</td>\n",
              "      <td>1326.670586</td>\n",
              "      <td>-2498.403236</td>\n",
              "      <td>1171.732649</td>\n",
              "      <td>70812.684976</td>\n",
              "      <td>-183939.767009</td>\n",
              "      <td>...</td>\n",
              "      <td>179387.167346</td>\n",
              "      <td>-115.097764</td>\n",
              "      <td>4415.773169</td>\n",
              "      <td>-4300.675407</td>\n",
              "      <td>-13255.639211</td>\n",
              "      <td>-154552.937197</td>\n",
              "      <td>167808.576443</td>\n",
              "      <td>-293.411560</td>\n",
              "      <td>2349.624149</td>\n",
              "      <td>-2056.212589</td>\n",
              "    </tr>\n",
              "    <tr>\n",
              "      <th>1</th>\n",
              "      <td>1</td>\n",
              "      <td>2</td>\n",
              "      <td>-174856.647284</td>\n",
              "      <td>144363.624217</td>\n",
              "      <td>30493.023264</td>\n",
              "      <td>-2346.135822</td>\n",
              "      <td>1954.874782</td>\n",
              "      <td>391.261040</td>\n",
              "      <td>-159669.641995</td>\n",
              "      <td>162445.965570</td>\n",
              "      <td>...</td>\n",
              "      <td>-109712.424679</td>\n",
              "      <td>3102.292487</td>\n",
              "      <td>-5003.104075</td>\n",
              "      <td>1900.811588</td>\n",
              "      <td>-100951.019730</td>\n",
              "      <td>186893.313448</td>\n",
              "      <td>-85942.293632</td>\n",
              "      <td>1764.858338</td>\n",
              "      <td>-2502.632443</td>\n",
              "      <td>737.774104</td>\n",
              "    </tr>\n",
              "    <tr>\n",
              "      <th>2</th>\n",
              "      <td>1</td>\n",
              "      <td>3</td>\n",
              "      <td>180109.180376</td>\n",
              "      <td>-47187.823384</td>\n",
              "      <td>-132921.357196</td>\n",
              "      <td>2416.651154</td>\n",
              "      <td>-659.057642</td>\n",
              "      <td>-1757.593513</td>\n",
              "      <td>185245.695798</td>\n",
              "      <td>-78255.251951</td>\n",
              "      <td>...</td>\n",
              "      <td>-1505.302360</td>\n",
              "      <td>-4858.039315</td>\n",
              "      <td>3627.776318</td>\n",
              "      <td>1230.262999</td>\n",
              "      <td>174237.191521</td>\n",
              "      <td>-146175.388439</td>\n",
              "      <td>-28061.803254</td>\n",
              "      <td>-2518.649730</td>\n",
              "      <td>1672.733239</td>\n",
              "      <td>845.916491</td>\n",
              "    </tr>\n",
              "    <tr>\n",
              "      <th>3</th>\n",
              "      <td>1</td>\n",
              "      <td>4</td>\n",
              "      <td>-116712.469422</td>\n",
              "      <td>-67950.562444</td>\n",
              "      <td>184663.032000</td>\n",
              "      <td>-1594.118000</td>\n",
              "      <td>-885.754191</td>\n",
              "      <td>2479.872191</td>\n",
              "      <td>-140183.805213</td>\n",
              "      <td>-35754.225527</td>\n",
              "      <td>...</td>\n",
              "      <td>112138.044587</td>\n",
              "      <td>4740.622157</td>\n",
              "      <td>-883.807890</td>\n",
              "      <td>-3856.814271</td>\n",
              "      <td>-181046.965705</td>\n",
              "      <td>49702.823011</td>\n",
              "      <td>131344.142886</td>\n",
              "      <td>2327.186236</td>\n",
              "      <td>-216.603559</td>\n",
              "      <td>-2110.582678</td>\n",
              "    </tr>\n",
              "    <tr>\n",
              "      <th>4</th>\n",
              "      <td>1</td>\n",
              "      <td>5</td>\n",
              "      <td>8815.918754</td>\n",
              "      <td>157116.495259</td>\n",
              "      <td>-165932.414026</td>\n",
              "      <td>140.123473</td>\n",
              "      <td>2094.313750</td>\n",
              "      <td>-2234.437223</td>\n",
              "      <td>41684.391729</td>\n",
              "      <td>136066.787921</td>\n",
              "      <td>...</td>\n",
              "      <td>-179965.295525</td>\n",
              "      <td>-2830.958052</td>\n",
              "      <td>-2210.081547</td>\n",
              "      <td>5041.039602</td>\n",
              "      <td>118849.920845</td>\n",
              "      <td>65664.237432</td>\n",
              "      <td>-184514.158416</td>\n",
              "      <td>-1232.152927</td>\n",
              "      <td>-1332.085688</td>\n",
              "      <td>2564.238616</td>\n",
              "    </tr>\n",
              "    <tr>\n",
              "      <th>...</th>\n",
              "      <td>...</td>\n",
              "      <td>...</td>\n",
              "      <td>...</td>\n",
              "      <td>...</td>\n",
              "      <td>...</td>\n",
              "      <td>...</td>\n",
              "      <td>...</td>\n",
              "      <td>...</td>\n",
              "      <td>...</td>\n",
              "      <td>...</td>\n",
              "      <td>...</td>\n",
              "      <td>...</td>\n",
              "      <td>...</td>\n",
              "      <td>...</td>\n",
              "      <td>...</td>\n",
              "      <td>...</td>\n",
              "      <td>...</td>\n",
              "      <td>...</td>\n",
              "      <td>...</td>\n",
              "      <td>...</td>\n",
              "      <td>...</td>\n",
              "    </tr>\n",
              "    <tr>\n",
              "      <th>22039</th>\n",
              "      <td>44</td>\n",
              "      <td>497</td>\n",
              "      <td>-177580.000317</td>\n",
              "      <td>44172.853198</td>\n",
              "      <td>133407.147321</td>\n",
              "      <td>-2427.295419</td>\n",
              "      <td>637.263899</td>\n",
              "      <td>1790.031521</td>\n",
              "      <td>-183073.491428</td>\n",
              "      <td>75480.453257</td>\n",
              "      <td>...</td>\n",
              "      <td>-241.375979</td>\n",
              "      <td>4777.596408</td>\n",
              "      <td>-3652.465576</td>\n",
              "      <td>-1125.130835</td>\n",
              "      <td>-172928.890433</td>\n",
              "      <td>146924.579587</td>\n",
              "      <td>26004.311015</td>\n",
              "      <td>2473.217925</td>\n",
              "      <td>-1664.612752</td>\n",
              "      <td>-808.605174</td>\n",
              "    </tr>\n",
              "    <tr>\n",
              "      <th>22040</th>\n",
              "      <td>44</td>\n",
              "      <td>498</td>\n",
              "      <td>113634.962094</td>\n",
              "      <td>69509.108047</td>\n",
              "      <td>-183144.070272</td>\n",
              "      <td>1573.722987</td>\n",
              "      <td>912.482499</td>\n",
              "      <td>-2486.205486</td>\n",
              "      <td>137422.608407</td>\n",
              "      <td>37294.007348</td>\n",
              "      <td>...</td>\n",
              "      <td>-110330.869079</td>\n",
              "      <td>-4688.239693</td>\n",
              "      <td>933.755254</td>\n",
              "      <td>3754.484442</td>\n",
              "      <td>180934.202880</td>\n",
              "      <td>-51351.881549</td>\n",
              "      <td>-129582.321522</td>\n",
              "      <td>-2289.701338</td>\n",
              "      <td>232.377313</td>\n",
              "      <td>2057.324025</td>\n",
              "    </tr>\n",
              "    <tr>\n",
              "      <th>22041</th>\n",
              "      <td>44</td>\n",
              "      <td>499</td>\n",
              "      <td>-6514.557623</td>\n",
              "      <td>-156781.134816</td>\n",
              "      <td>163295.692449</td>\n",
              "      <td>-122.906289</td>\n",
              "      <td>-2113.094606</td>\n",
              "      <td>2236.000894</td>\n",
              "      <td>-39528.368990</td>\n",
              "      <td>-135911.035492</td>\n",
              "      <td>...</td>\n",
              "      <td>178791.350686</td>\n",
              "      <td>2875.868473</td>\n",
              "      <td>2095.233525</td>\n",
              "      <td>-4971.102002</td>\n",
              "      <td>-119865.167961</td>\n",
              "      <td>-63830.363195</td>\n",
              "      <td>183695.531296</td>\n",
              "      <td>1237.405069</td>\n",
              "      <td>1286.381030</td>\n",
              "      <td>-2523.786100</td>\n",
              "    </tr>\n",
              "    <tr>\n",
              "      <th>22042</th>\n",
              "      <td>44</td>\n",
              "      <td>500</td>\n",
              "      <td>-103088.460092</td>\n",
              "      <td>184489.861603</td>\n",
              "      <td>-81401.401396</td>\n",
              "      <td>-1373.256085</td>\n",
              "      <td>2508.837153</td>\n",
              "      <td>-1135.581068</td>\n",
              "      <td>-73417.643206</td>\n",
              "      <td>182889.676688</td>\n",
              "      <td>...</td>\n",
              "      <td>-178986.427067</td>\n",
              "      <td>109.086376</td>\n",
              "      <td>-4378.277697</td>\n",
              "      <td>4269.191323</td>\n",
              "      <td>13003.860934</td>\n",
              "      <td>154627.684765</td>\n",
              "      <td>-167631.545735</td>\n",
              "      <td>294.393723</td>\n",
              "      <td>-2319.852901</td>\n",
              "      <td>2025.459177</td>\n",
              "    </tr>\n",
              "    <tr>\n",
              "      <th>22043</th>\n",
              "      <td>44</td>\n",
              "      <td>501</td>\n",
              "      <td>173529.321979</td>\n",
              "      <td>-142108.208142</td>\n",
              "      <td>-31421.114033</td>\n",
              "      <td>2345.169167</td>\n",
              "      <td>-1949.662631</td>\n",
              "      <td>-395.506537</td>\n",
              "      <td>158482.551501</td>\n",
              "      <td>-160366.137316</td>\n",
              "      <td>...</td>\n",
              "      <td>110856.794383</td>\n",
              "      <td>-2990.035537</td>\n",
              "      <td>4941.577280</td>\n",
              "      <td>-1951.541743</td>\n",
              "      <td>98866.577492</td>\n",
              "      <td>-186420.372964</td>\n",
              "      <td>87553.795390</td>\n",
              "      <td>-1710.514193</td>\n",
              "      <td>2464.307656</td>\n",
              "      <td>-753.793463</td>\n",
              "    </tr>\n",
              "  </tbody>\n",
              "</table>\n",
              "<p>22044 rows × 32 columns</p>\n",
              "</div>\n",
              "    <div class=\"colab-df-buttons\">\n",
              "\n",
              "  <div class=\"colab-df-container\">\n",
              "    <button class=\"colab-df-convert\" onclick=\"convertToInteractive('df-3b43e1c3-e317-4148-8f75-c3baf4450baa')\"\n",
              "            title=\"Convert this dataframe to an interactive table.\"\n",
              "            style=\"display:none;\">\n",
              "\n",
              "  <svg xmlns=\"http://www.w3.org/2000/svg\" height=\"24px\" viewBox=\"0 -960 960 960\">\n",
              "    <path d=\"M120-120v-720h720v720H120Zm60-500h600v-160H180v160Zm220 220h160v-160H400v160Zm0 220h160v-160H400v160ZM180-400h160v-160H180v160Zm440 0h160v-160H620v160ZM180-180h160v-160H180v160Zm440 0h160v-160H620v160Z\"/>\n",
              "  </svg>\n",
              "    </button>\n",
              "\n",
              "  <style>\n",
              "    .colab-df-container {\n",
              "      display:flex;\n",
              "      gap: 12px;\n",
              "    }\n",
              "\n",
              "    .colab-df-convert {\n",
              "      background-color: #E8F0FE;\n",
              "      border: none;\n",
              "      border-radius: 50%;\n",
              "      cursor: pointer;\n",
              "      display: none;\n",
              "      fill: #1967D2;\n",
              "      height: 32px;\n",
              "      padding: 0 0 0 0;\n",
              "      width: 32px;\n",
              "    }\n",
              "\n",
              "    .colab-df-convert:hover {\n",
              "      background-color: #E2EBFA;\n",
              "      box-shadow: 0px 1px 2px rgba(60, 64, 67, 0.3), 0px 1px 3px 1px rgba(60, 64, 67, 0.15);\n",
              "      fill: #174EA6;\n",
              "    }\n",
              "\n",
              "    .colab-df-buttons div {\n",
              "      margin-bottom: 4px;\n",
              "    }\n",
              "\n",
              "    [theme=dark] .colab-df-convert {\n",
              "      background-color: #3B4455;\n",
              "      fill: #D2E3FC;\n",
              "    }\n",
              "\n",
              "    [theme=dark] .colab-df-convert:hover {\n",
              "      background-color: #434B5C;\n",
              "      box-shadow: 0px 1px 3px 1px rgba(0, 0, 0, 0.15);\n",
              "      filter: drop-shadow(0px 1px 2px rgba(0, 0, 0, 0.3));\n",
              "      fill: #FFFFFF;\n",
              "    }\n",
              "  </style>\n",
              "\n",
              "    <script>\n",
              "      const buttonEl =\n",
              "        document.querySelector('#df-3b43e1c3-e317-4148-8f75-c3baf4450baa button.colab-df-convert');\n",
              "      buttonEl.style.display =\n",
              "        google.colab.kernel.accessAllowed ? 'block' : 'none';\n",
              "\n",
              "      async function convertToInteractive(key) {\n",
              "        const element = document.querySelector('#df-3b43e1c3-e317-4148-8f75-c3baf4450baa');\n",
              "        const dataTable =\n",
              "          await google.colab.kernel.invokeFunction('convertToInteractive',\n",
              "                                                    [key], {});\n",
              "        if (!dataTable) return;\n",
              "\n",
              "        const docLinkHtml = 'Like what you see? Visit the ' +\n",
              "          '<a target=\"_blank\" href=https://colab.research.google.com/notebooks/data_table.ipynb>data table notebook</a>'\n",
              "          + ' to learn more about interactive tables.';\n",
              "        element.innerHTML = '';\n",
              "        dataTable['output_type'] = 'display_data';\n",
              "        await google.colab.output.renderOutput(dataTable, element);\n",
              "        const docLink = document.createElement('div');\n",
              "        docLink.innerHTML = docLinkHtml;\n",
              "        element.appendChild(docLink);\n",
              "      }\n",
              "    </script>\n",
              "  </div>\n",
              "\n",
              "\n",
              "<div id=\"df-69cb1c89-f95d-44de-b249-373b3f0a4c31\">\n",
              "  <button class=\"colab-df-quickchart\" onclick=\"quickchart('df-69cb1c89-f95d-44de-b249-373b3f0a4c31')\"\n",
              "            title=\"Suggest charts\"\n",
              "            style=\"display:none;\">\n",
              "\n",
              "<svg xmlns=\"http://www.w3.org/2000/svg\" height=\"24px\"viewBox=\"0 0 24 24\"\n",
              "     width=\"24px\">\n",
              "    <g>\n",
              "        <path d=\"M19 3H5c-1.1 0-2 .9-2 2v14c0 1.1.9 2 2 2h14c1.1 0 2-.9 2-2V5c0-1.1-.9-2-2-2zM9 17H7v-7h2v7zm4 0h-2V7h2v10zm4 0h-2v-4h2v4z\"/>\n",
              "    </g>\n",
              "</svg>\n",
              "  </button>\n",
              "\n",
              "<style>\n",
              "  .colab-df-quickchart {\n",
              "      --bg-color: #E8F0FE;\n",
              "      --fill-color: #1967D2;\n",
              "      --hover-bg-color: #E2EBFA;\n",
              "      --hover-fill-color: #174EA6;\n",
              "      --disabled-fill-color: #AAA;\n",
              "      --disabled-bg-color: #DDD;\n",
              "  }\n",
              "\n",
              "  [theme=dark] .colab-df-quickchart {\n",
              "      --bg-color: #3B4455;\n",
              "      --fill-color: #D2E3FC;\n",
              "      --hover-bg-color: #434B5C;\n",
              "      --hover-fill-color: #FFFFFF;\n",
              "      --disabled-bg-color: #3B4455;\n",
              "      --disabled-fill-color: #666;\n",
              "  }\n",
              "\n",
              "  .colab-df-quickchart {\n",
              "    background-color: var(--bg-color);\n",
              "    border: none;\n",
              "    border-radius: 50%;\n",
              "    cursor: pointer;\n",
              "    display: none;\n",
              "    fill: var(--fill-color);\n",
              "    height: 32px;\n",
              "    padding: 0;\n",
              "    width: 32px;\n",
              "  }\n",
              "\n",
              "  .colab-df-quickchart:hover {\n",
              "    background-color: var(--hover-bg-color);\n",
              "    box-shadow: 0 1px 2px rgba(60, 64, 67, 0.3), 0 1px 3px 1px rgba(60, 64, 67, 0.15);\n",
              "    fill: var(--button-hover-fill-color);\n",
              "  }\n",
              "\n",
              "  .colab-df-quickchart-complete:disabled,\n",
              "  .colab-df-quickchart-complete:disabled:hover {\n",
              "    background-color: var(--disabled-bg-color);\n",
              "    fill: var(--disabled-fill-color);\n",
              "    box-shadow: none;\n",
              "  }\n",
              "\n",
              "  .colab-df-spinner {\n",
              "    border: 2px solid var(--fill-color);\n",
              "    border-color: transparent;\n",
              "    border-bottom-color: var(--fill-color);\n",
              "    animation:\n",
              "      spin 1s steps(1) infinite;\n",
              "  }\n",
              "\n",
              "  @keyframes spin {\n",
              "    0% {\n",
              "      border-color: transparent;\n",
              "      border-bottom-color: var(--fill-color);\n",
              "      border-left-color: var(--fill-color);\n",
              "    }\n",
              "    20% {\n",
              "      border-color: transparent;\n",
              "      border-left-color: var(--fill-color);\n",
              "      border-top-color: var(--fill-color);\n",
              "    }\n",
              "    30% {\n",
              "      border-color: transparent;\n",
              "      border-left-color: var(--fill-color);\n",
              "      border-top-color: var(--fill-color);\n",
              "      border-right-color: var(--fill-color);\n",
              "    }\n",
              "    40% {\n",
              "      border-color: transparent;\n",
              "      border-right-color: var(--fill-color);\n",
              "      border-top-color: var(--fill-color);\n",
              "    }\n",
              "    60% {\n",
              "      border-color: transparent;\n",
              "      border-right-color: var(--fill-color);\n",
              "    }\n",
              "    80% {\n",
              "      border-color: transparent;\n",
              "      border-right-color: var(--fill-color);\n",
              "      border-bottom-color: var(--fill-color);\n",
              "    }\n",
              "    90% {\n",
              "      border-color: transparent;\n",
              "      border-bottom-color: var(--fill-color);\n",
              "    }\n",
              "  }\n",
              "</style>\n",
              "\n",
              "  <script>\n",
              "    async function quickchart(key) {\n",
              "      const quickchartButtonEl =\n",
              "        document.querySelector('#' + key + ' button');\n",
              "      quickchartButtonEl.disabled = true;  // To prevent multiple clicks.\n",
              "      quickchartButtonEl.classList.add('colab-df-spinner');\n",
              "      try {\n",
              "        const charts = await google.colab.kernel.invokeFunction(\n",
              "            'suggestCharts', [key], {});\n",
              "      } catch (error) {\n",
              "        console.error('Error during call to suggestCharts:', error);\n",
              "      }\n",
              "      quickchartButtonEl.classList.remove('colab-df-spinner');\n",
              "      quickchartButtonEl.classList.add('colab-df-quickchart-complete');\n",
              "    }\n",
              "    (() => {\n",
              "      let quickchartButtonEl =\n",
              "        document.querySelector('#df-69cb1c89-f95d-44de-b249-373b3f0a4c31 button');\n",
              "      quickchartButtonEl.style.display =\n",
              "        google.colab.kernel.accessAllowed ? 'block' : 'none';\n",
              "    })();\n",
              "  </script>\n",
              "</div>\n",
              "    </div>\n",
              "  </div>\n"
            ]
          },
          "metadata": {},
          "execution_count": 6
        }
      ]
    },
    {
      "cell_type": "code",
      "execution_count": null,
      "metadata": {
        "id": "atKoW0Pr3PU4"
      },
      "outputs": [],
      "source": [
        "X = X_df.drop(['Series_ID'], axis=1)"
      ]
    },
    {
      "cell_type": "code",
      "execution_count": null,
      "metadata": {
        "id": "c2nJKY7H3hJ1"
      },
      "outputs": [],
      "source": [
        "y = pd.read_excel(r\"/content/y_2.xlsx\")"
      ]
    },
    {
      "cell_type": "code",
      "execution_count": null,
      "metadata": {
        "id": "O9zMEcJBz6Nt",
        "outputId": "575e473e-384e-4db1-b292-6cc9425c0a34",
        "colab": {
          "base_uri": "https://localhost:8080/"
        }
      },
      "outputs": [
        {
          "output_type": "execute_result",
          "data": {
            "text/plain": [
              "['Va_56',\n",
              " 'Vb_56',\n",
              " 'Vc_56',\n",
              " 'Ia_56',\n",
              " 'Ib_56',\n",
              " 'Ic_56',\n",
              " 'Va_67',\n",
              " 'Vb_67',\n",
              " 'Vc_67',\n",
              " 'Ia_67',\n",
              " 'Ib_67',\n",
              " 'Ic_67',\n",
              " 'Va_79',\n",
              " 'Vb_79',\n",
              " 'Vc_79',\n",
              " 'Ia_79',\n",
              " 'Ib_79',\n",
              " 'Ic_79',\n",
              " 'Va_910',\n",
              " 'Vb_910',\n",
              " 'Vc_910',\n",
              " 'Ia_910',\n",
              " 'Ib_910',\n",
              " 'Ic_910',\n",
              " 'Va_1011',\n",
              " 'Vb_1011',\n",
              " 'Vc_1011',\n",
              " 'Ia_1011',\n",
              " 'Ib_1011',\n",
              " 'Ic_1011']"
            ]
          },
          "metadata": {},
          "execution_count": 9
        }
      ],
      "source": [
        "FEATURE_COLUMNS=X.columns.tolist()[1:]\n",
        "FEATURE_COLUMNS"
      ]
    },
    {
      "cell_type": "code",
      "execution_count": null,
      "metadata": {
        "id": "kU0zSb3Uz6Nu"
      },
      "outputs": [],
      "source": [
        "sequences=[]\n",
        "\n",
        "for Series_ID, group in X_df.groupby(\"Series_ID\"):\n",
        "  sequence_features=group[FEATURE_COLUMNS]\n",
        "  label=y[y.Series_ID==Series_ID].iloc[0].label\n",
        "\n",
        "  sequences.append((sequence_features,label))"
      ]
    },
    {
      "cell_type": "code",
      "execution_count": null,
      "metadata": {
        "id": "4vdmulKiz6Nx"
      },
      "outputs": [],
      "source": [
        "train_sequences, test_sequences = train_test_split(sequences, test_size=0.3)"
      ]
    },
    {
      "cell_type": "code",
      "execution_count": null,
      "metadata": {
        "id": "k-7dB8YKz6Ny",
        "outputId": "3fe68c7e-89ef-4f47-edc8-2e15ff523376",
        "colab": {
          "base_uri": "https://localhost:8080/"
        }
      },
      "outputs": [
        {
          "output_type": "execute_result",
          "data": {
            "text/plain": [
              "(30, 14)"
            ]
          },
          "metadata": {},
          "execution_count": 12
        }
      ],
      "source": [
        "len(train_sequences), len(test_sequences)"
      ]
    },
    {
      "cell_type": "code",
      "execution_count": null,
      "metadata": {
        "id": "aiABWTZyz6Ny"
      },
      "outputs": [],
      "source": [
        "x_train = [sample for sample, series_id in train_sequences]"
      ]
    },
    {
      "cell_type": "code",
      "execution_count": null,
      "metadata": {
        "id": "8XeJYvVHz6Nz",
        "colab": {
          "base_uri": "https://localhost:8080/"
        },
        "outputId": "c2a634e1-6f0e-44fb-9acd-e1961dd8137c"
      },
      "outputs": [
        {
          "output_type": "execute_result",
          "data": {
            "text/plain": [
              "(30, 501, 30)"
            ]
          },
          "metadata": {},
          "execution_count": 14
        }
      ],
      "source": [
        "x_train=np.array(x_train)\n",
        "x_train.shape"
      ]
    },
    {
      "cell_type": "code",
      "execution_count": null,
      "metadata": {
        "id": "4olWqZh8z6Nz",
        "outputId": "b0b06eaf-f9c4-41a1-acf0-b21a788fa92f",
        "colab": {
          "base_uri": "https://localhost:8080/"
        }
      },
      "outputs": [
        {
          "output_type": "execute_result",
          "data": {
            "text/plain": [
              "array([[ 100628.29994159, -186161.99880862,   85533.69875505, ...,\n",
              "           -713.65939302,    2475.25651705,   -1761.59712368],\n",
              "       [ 100628.29994159, -186161.99880862,   85533.69875505, ...,\n",
              "          -1311.59146951,    2533.92298549,   -1222.33151549],\n",
              "       [ 100628.29994159, -186161.99880861,   85533.69875504, ...,\n",
              "          -2135.90994547,    2354.70947055,    -218.79952432],\n",
              "       ...,\n",
              "       [ 100628.29994159, -186161.99880862,   85533.69875504, ...,\n",
              "           -659.01168631,    2462.20938344,   -1803.1976968 ],\n",
              "       [ 100628.29994159, -186161.99880862,   85533.69875505, ...,\n",
              "          -1223.0670134 ,    2536.90006099,   -1313.83304712],\n",
              "       [ 100628.29994159, -186161.99880861,   85533.69875504, ...,\n",
              "          -1471.98786778,    2569.75191913,   -1097.76405076]])"
            ]
          },
          "metadata": {},
          "execution_count": 15
        }
      ],
      "source": [
        "X_train_flattened = x_train.reshape(30, 501 * 30)\n",
        "X_train_flattened"
      ]
    },
    {
      "cell_type": "code",
      "execution_count": null,
      "metadata": {
        "id": "QHvhUD0iz6N0"
      },
      "outputs": [],
      "source": [
        "Y_train = [series_id for sample, series_id in train_sequences]"
      ]
    },
    {
      "cell_type": "code",
      "execution_count": null,
      "metadata": {
        "id": "vvIc5ptQz6N0"
      },
      "outputs": [],
      "source": [
        "x_test = [sample for sample, series_id in test_sequences]"
      ]
    },
    {
      "cell_type": "code",
      "execution_count": null,
      "metadata": {
        "id": "K4MZ9R8kz6N0",
        "outputId": "3d710f6f-02ce-4aff-8450-ae751cb89907",
        "colab": {
          "base_uri": "https://localhost:8080/"
        }
      },
      "outputs": [
        {
          "output_type": "execute_result",
          "data": {
            "text/plain": [
              "(14, 501, 30)"
            ]
          },
          "metadata": {},
          "execution_count": 18
        }
      ],
      "source": [
        "x_test=np.array(x_test)\n",
        "x_test.shape"
      ]
    },
    {
      "cell_type": "code",
      "execution_count": null,
      "metadata": {
        "id": "INF0-KS-z6N1",
        "outputId": "2bb6f19c-e7ef-4390-de72-f3e743472616",
        "colab": {
          "base_uri": "https://localhost:8080/"
        }
      },
      "outputs": [
        {
          "output_type": "execute_result",
          "data": {
            "text/plain": [
              "(14, 15030)"
            ]
          },
          "metadata": {},
          "execution_count": 19
        }
      ],
      "source": [
        "X_test_flattened = x_test.reshape(14, 501 * 30)\n",
        "X_test_flattened.shape"
      ]
    },
    {
      "cell_type": "code",
      "execution_count": null,
      "metadata": {
        "id": "ZoDw_LTGz6N1"
      },
      "outputs": [],
      "source": [
        "Y_test = [series_id for sample, series_id in test_sequences]"
      ]
    },
    {
      "cell_type": "code",
      "execution_count": null,
      "metadata": {
        "id": "uzPxDZUtd7uA"
      },
      "outputs": [],
      "source": [
        "# Fit the model to the training data\n",
        "rf_classifier = RandomForestClassifier(\n",
        "    n_estimators=500,\n",
        "    max_features='log2',\n",
        "    max_depth=10,\n",
        "    min_samples_split= 5,\n",
        "    min_samples_leaf= 2\n",
        ")"
      ]
    },
    {
      "cell_type": "code",
      "execution_count": null,
      "metadata": {
        "id": "d_u2k-8nz6N2",
        "outputId": "e41801ec-fbba-4b9e-e230-37531ef271aa",
        "colab": {
          "base_uri": "https://localhost:8080/",
          "height": 92
        }
      },
      "outputs": [
        {
          "output_type": "execute_result",
          "data": {
            "text/plain": [
              "RandomForestClassifier(max_depth=10, max_features='log2', min_samples_leaf=2,\n",
              "                       min_samples_split=5, n_estimators=500)"
            ],
            "text/html": [
              "<style>#sk-container-id-1 {color: black;background-color: white;}#sk-container-id-1 pre{padding: 0;}#sk-container-id-1 div.sk-toggleable {background-color: white;}#sk-container-id-1 label.sk-toggleable__label {cursor: pointer;display: block;width: 100%;margin-bottom: 0;padding: 0.3em;box-sizing: border-box;text-align: center;}#sk-container-id-1 label.sk-toggleable__label-arrow:before {content: \"▸\";float: left;margin-right: 0.25em;color: #696969;}#sk-container-id-1 label.sk-toggleable__label-arrow:hover:before {color: black;}#sk-container-id-1 div.sk-estimator:hover label.sk-toggleable__label-arrow:before {color: black;}#sk-container-id-1 div.sk-toggleable__content {max-height: 0;max-width: 0;overflow: hidden;text-align: left;background-color: #f0f8ff;}#sk-container-id-1 div.sk-toggleable__content pre {margin: 0.2em;color: black;border-radius: 0.25em;background-color: #f0f8ff;}#sk-container-id-1 input.sk-toggleable__control:checked~div.sk-toggleable__content {max-height: 200px;max-width: 100%;overflow: auto;}#sk-container-id-1 input.sk-toggleable__control:checked~label.sk-toggleable__label-arrow:before {content: \"▾\";}#sk-container-id-1 div.sk-estimator input.sk-toggleable__control:checked~label.sk-toggleable__label {background-color: #d4ebff;}#sk-container-id-1 div.sk-label input.sk-toggleable__control:checked~label.sk-toggleable__label {background-color: #d4ebff;}#sk-container-id-1 input.sk-hidden--visually {border: 0;clip: rect(1px 1px 1px 1px);clip: rect(1px, 1px, 1px, 1px);height: 1px;margin: -1px;overflow: hidden;padding: 0;position: absolute;width: 1px;}#sk-container-id-1 div.sk-estimator {font-family: monospace;background-color: #f0f8ff;border: 1px dotted black;border-radius: 0.25em;box-sizing: border-box;margin-bottom: 0.5em;}#sk-container-id-1 div.sk-estimator:hover {background-color: #d4ebff;}#sk-container-id-1 div.sk-parallel-item::after {content: \"\";width: 100%;border-bottom: 1px solid gray;flex-grow: 1;}#sk-container-id-1 div.sk-label:hover label.sk-toggleable__label {background-color: #d4ebff;}#sk-container-id-1 div.sk-serial::before {content: \"\";position: absolute;border-left: 1px solid gray;box-sizing: border-box;top: 0;bottom: 0;left: 50%;z-index: 0;}#sk-container-id-1 div.sk-serial {display: flex;flex-direction: column;align-items: center;background-color: white;padding-right: 0.2em;padding-left: 0.2em;position: relative;}#sk-container-id-1 div.sk-item {position: relative;z-index: 1;}#sk-container-id-1 div.sk-parallel {display: flex;align-items: stretch;justify-content: center;background-color: white;position: relative;}#sk-container-id-1 div.sk-item::before, #sk-container-id-1 div.sk-parallel-item::before {content: \"\";position: absolute;border-left: 1px solid gray;box-sizing: border-box;top: 0;bottom: 0;left: 50%;z-index: -1;}#sk-container-id-1 div.sk-parallel-item {display: flex;flex-direction: column;z-index: 1;position: relative;background-color: white;}#sk-container-id-1 div.sk-parallel-item:first-child::after {align-self: flex-end;width: 50%;}#sk-container-id-1 div.sk-parallel-item:last-child::after {align-self: flex-start;width: 50%;}#sk-container-id-1 div.sk-parallel-item:only-child::after {width: 0;}#sk-container-id-1 div.sk-dashed-wrapped {border: 1px dashed gray;margin: 0 0.4em 0.5em 0.4em;box-sizing: border-box;padding-bottom: 0.4em;background-color: white;}#sk-container-id-1 div.sk-label label {font-family: monospace;font-weight: bold;display: inline-block;line-height: 1.2em;}#sk-container-id-1 div.sk-label-container {text-align: center;}#sk-container-id-1 div.sk-container {/* jupyter's `normalize.less` sets `[hidden] { display: none; }` but bootstrap.min.css set `[hidden] { display: none !important; }` so we also need the `!important` here to be able to override the default hidden behavior on the sphinx rendered scikit-learn.org. See: https://github.com/scikit-learn/scikit-learn/issues/21755 */display: inline-block !important;position: relative;}#sk-container-id-1 div.sk-text-repr-fallback {display: none;}</style><div id=\"sk-container-id-1\" class=\"sk-top-container\"><div class=\"sk-text-repr-fallback\"><pre>RandomForestClassifier(max_depth=10, max_features=&#x27;log2&#x27;, min_samples_leaf=2,\n",
              "                       min_samples_split=5, n_estimators=500)</pre><b>In a Jupyter environment, please rerun this cell to show the HTML representation or trust the notebook. <br />On GitHub, the HTML representation is unable to render, please try loading this page with nbviewer.org.</b></div><div class=\"sk-container\" hidden><div class=\"sk-item\"><div class=\"sk-estimator sk-toggleable\"><input class=\"sk-toggleable__control sk-hidden--visually\" id=\"sk-estimator-id-1\" type=\"checkbox\" checked><label for=\"sk-estimator-id-1\" class=\"sk-toggleable__label sk-toggleable__label-arrow\">RandomForestClassifier</label><div class=\"sk-toggleable__content\"><pre>RandomForestClassifier(max_depth=10, max_features=&#x27;log2&#x27;, min_samples_leaf=2,\n",
              "                       min_samples_split=5, n_estimators=500)</pre></div></div></div></div></div>"
            ]
          },
          "metadata": {},
          "execution_count": 22
        }
      ],
      "source": [
        "rf_classifier.fit(X_train_flattened, Y_train)"
      ]
    },
    {
      "cell_type": "code",
      "execution_count": null,
      "metadata": {
        "id": "fpDzl_aQeEDd"
      },
      "outputs": [],
      "source": [
        "y_pred = rf_classifier.predict(X_test_flattened)"
      ]
    },
    {
      "cell_type": "code",
      "execution_count": null,
      "metadata": {
        "colab": {
          "base_uri": "https://localhost:8080/"
        },
        "id": "VZGvClMNezUM",
        "outputId": "e334c8c5-5a0f-4672-fb7d-3e6e734def7d"
      },
      "outputs": [
        {
          "output_type": "stream",
          "name": "stdout",
          "text": [
            "Test Set Accuracy: 0.7857142857142857\n",
            "Test Set Classification Report:\n",
            "               precision    recall  f1-score   support\n",
            "\n",
            "           1       0.83      1.00      0.91         5\n",
            "           2       1.00      0.50      0.67         4\n",
            "           3       0.60      1.00      0.75         3\n",
            "           4       1.00      0.50      0.67         2\n",
            "\n",
            "    accuracy                           0.79        14\n",
            "   macro avg       0.86      0.75      0.75        14\n",
            "weighted avg       0.85      0.79      0.77        14\n",
            "\n"
          ]
        }
      ],
      "source": [
        "# Evaluate the model\n",
        "accuracy = accuracy_score(Y_test, y_pred)\n",
        "report = classification_report(Y_test, y_pred)\n",
        "\n",
        "print(f\"Test Set Accuracy: {accuracy}\")\n",
        "print(\"Test Set Classification Report:\\n\", report)\n"
      ]
    },
    {
      "cell_type": "code",
      "execution_count": null,
      "metadata": {
        "id": "-U12COCEz6N3",
        "outputId": "bef457ff-d033-4b25-ce32-dab01084528e",
        "colab": {
          "base_uri": "https://localhost:8080/"
        }
      },
      "outputs": [
        {
          "output_type": "execute_result",
          "data": {
            "text/plain": [
              "array([3, 4, 1, 3, 1, 2, 2, 3, 3, 3, 1, 1, 1, 1])"
            ]
          },
          "metadata": {},
          "execution_count": 25
        }
      ],
      "source": [
        "y_pred"
      ]
    },
    {
      "cell_type": "code",
      "execution_count": null,
      "metadata": {
        "id": "Rf8c_-7Oz6N4",
        "outputId": "9b18e50c-b099-46ab-f8e0-8814da327597",
        "colab": {
          "base_uri": "https://localhost:8080/"
        }
      },
      "outputs": [
        {
          "output_type": "execute_result",
          "data": {
            "text/plain": [
              "[4, 4, 1, 3, 1, 2, 2, 2, 3, 3, 1, 2, 1, 1]"
            ]
          },
          "metadata": {},
          "execution_count": 26
        }
      ],
      "source": [
        "Y_test"
      ]
    },
    {
      "cell_type": "code",
      "execution_count": null,
      "metadata": {
        "colab": {
          "base_uri": "https://localhost:8080/"
        },
        "id": "ylPH419a2W8R",
        "outputId": "6eba773f-f3b1-4845-8066-3221b4faa750"
      },
      "outputs": [
        {
          "output_type": "stream",
          "name": "stdout",
          "text": [
            "\n",
            "Training Set Accuracy: 0.9333333333333333\n",
            "Training Set Classification Report:\n",
            "               precision    recall  f1-score   support\n",
            "\n",
            "           1       1.00      0.86      0.92         7\n",
            "           2       0.89      1.00      0.94         8\n",
            "           3       0.90      1.00      0.95         9\n",
            "           4       1.00      0.83      0.91         6\n",
            "\n",
            "    accuracy                           0.93        30\n",
            "   macro avg       0.95      0.92      0.93        30\n",
            "weighted avg       0.94      0.93      0.93        30\n",
            "\n"
          ]
        }
      ],
      "source": [
        "y_pred_train = rf_classifier.predict(X_train_flattened)\n",
        "train_accuracy = accuracy_score(Y_train, y_pred_train)\n",
        "report_train = classification_report(Y_train, y_pred_train)\n",
        "\n",
        "print(f\"\\nTraining Set Accuracy: {train_accuracy}\")\n",
        "print(\"Training Set Classification Report:\\n\", report_train)"
      ]
    },
    {
      "cell_type": "code",
      "execution_count": null,
      "metadata": {
        "id": "fHiMzpRxz6N4",
        "outputId": "f23547df-63b0-494a-b355-3f9e313439a8",
        "colab": {
          "base_uri": "https://localhost:8080/",
          "height": 564
        }
      },
      "outputs": [
        {
          "output_type": "display_data",
          "data": {
            "text/plain": [
              "<Figure size 800x600 with 2 Axes>"
            ],
            "image/png": "[encoded data removed]"
          },
          "metadata": {}
        }
      ],
      "source": [
        "from sklearn.metrics import confusion_matrix\n",
        "import seaborn as sns\n",
        "import matplotlib.pyplot as plt\n",
        "\n",
        "# Confusion Matrix\n",
        "cm = confusion_matrix(Y_test, y_pred)\n",
        "\n",
        "# Plot Confusion Matrix\n",
        "plt.figure(figsize=(8, 6))\n",
        "array=['LG', 'LL','LLG','Symmetric']\n",
        "sns.heatmap(cm, annot=True, fmt=\"d\", cmap=\"Oranges\", xticklabels=array, yticklabels=array)\n",
        "plt.title('Confusion Matrix-Testing')\n",
        "plt.xlabel('Predicted')\n",
        "plt.ylabel('Actual')\n",
        "plt.show()"
      ]
    },
    {
      "cell_type": "code",
      "execution_count": null,
      "metadata": {
        "id": "DLhzDnafz6N5",
        "outputId": "75594444-a19c-4460-d3c6-b98b68f8a265",
        "colab": {
          "base_uri": "https://localhost:8080/",
          "height": 564
        }
      },
      "outputs": [
        {
          "output_type": "display_data",
          "data": {
            "text/plain": [
              "<Figure size 800x600 with 2 Axes>"
            ],
            "image/png": "[encoded data removed]"
          },
          "metadata": {}
        }
      ],
      "source": [
        "from sklearn.metrics import confusion_matrix, roc_auc_score, roc_curve\n",
        "import seaborn as sns\n",
        "import matplotlib.pyplot as plt\n",
        "\n",
        "# Confusion Matrix\n",
        "cm = confusion_matrix(Y_train, y_pred_train)\n",
        "\n",
        "# Plot Confusion Matrix\n",
        "plt.figure(figsize=(8, 6))\n",
        "array=['LG', 'LL','LLG','Symmetric']\n",
        "sns.heatmap(cm, annot=True, fmt=\"d\", cmap=\"Oranges\", xticklabels=array, yticklabels=array)\n",
        "plt.title('Confusion Matrix-Training')\n",
        "plt.xlabel('Predicted')\n",
        "plt.ylabel('Actual')\n",
        "plt.show()\n"
      ]
    },
    {
      "cell_type": "code",
      "execution_count": null,
      "metadata": {
        "id": "tuQcj6dWz6N5",
        "outputId": "6decc0e8-2fd8-471c-e1b0-25a48c8cd98c",
        "colab": {
          "base_uri": "https://localhost:8080/"
        }
      },
      "outputs": [
        {
          "output_type": "execute_result",
          "data": {
            "text/plain": [
              "[4, 4, 1, 3, 1, 2, 2, 2, 3, 3, 1, 2, 1, 1]"
            ]
          },
          "metadata": {},
          "execution_count": 30
        }
      ],
      "source": [
        "Y_test"
      ]
    },
    {
      "cell_type": "code",
      "execution_count": null,
      "metadata": {
        "id": "IXG2sPuOz6N5",
        "outputId": "1bd12132-1479-4e67-bbc6-924fc3ada947",
        "colab": {
          "base_uri": "https://localhost:8080/"
        }
      },
      "outputs": [
        {
          "output_type": "execute_result",
          "data": {
            "text/plain": [
              "array([3, 4, 1, 3, 1, 2, 2, 3, 3, 3, 1, 1, 1, 1])"
            ]
          },
          "metadata": {},
          "execution_count": 31
        }
      ],
      "source": [
        "y_pred"
      ]
    },
    {
      "cell_type": "code",
      "execution_count": null,
      "metadata": {
        "id": "XIhAq7qQz6N6",
        "outputId": "df0be22c-14ea-470f-8b67-6fcf3a8f554f",
        "colab": {
          "base_uri": "https://localhost:8080/",
          "height": 573
        }
      },
      "outputs": [
        {
          "output_type": "display_data",
          "data": {
            "text/plain": [
              "<Figure size 1000x600 with 1 Axes>"
            ],
            "image/png": "[encoded data removed]"
          },
          "metadata": {}
        }
      ],
      "source": [
        "import seaborn as sns\n",
        "import matplotlib.pyplot as plt\n",
        "\n",
        "# Create a DataFrame for Actual and Predicted labels\n",
        "df = pd.DataFrame({'Instance': np.arange(len(Y_test)),\n",
        "                   'Actual': Y_test,\n",
        "                   'Predicted': y_pred})\n",
        "\n",
        "# Set up the Seaborn style\n",
        "sns.set(style='whitegrid')\n",
        "\n",
        "plt.figure(figsize=(10, 6))\n",
        "\n",
        "# Create the line plot\n",
        "sns.lineplot(x='Instance', y='Actual', data=df, marker='o', label='Actual')\n",
        "sns.lineplot(x='Instance', y='Predicted', data=df, marker='o', label='Predicted')\n",
        "\n",
        "plt.xlabel('Instance')\n",
        "plt.ylabel('Label')\n",
        "plt.title('Actual vs. Predicted Labels (Testing)' )\n",
        "plt.legend()\n",
        "\n",
        "plt.show()"
      ]
    },
    {
      "cell_type": "code",
      "source": [
        "import seaborn as sns\n",
        "import matplotlib.pyplot as plt\n",
        "\n",
        "# Create a DataFrame for Actual and Predicted labels\n",
        "df = pd.DataFrame({'Instance': np.arange(len(Y_train)),\n",
        "                   'Actual': Y_train,\n",
        "                   'Predicted': y_pred_train})\n",
        "\n",
        "# Set up the Seaborn style\n",
        "sns.set(style='whitegrid')\n",
        "\n",
        "plt.figure(figsize=(10, 6))\n",
        "\n",
        "# Create the line plot\n",
        "sns.lineplot(x='Instance', y='Actual', data=df, marker='o', label='Actual')\n",
        "sns.lineplot(x='Instance', y='Predicted', data=df, marker='o', label='Predicted')\n",
        "\n",
        "plt.xlabel('Instance')\n",
        "plt.ylabel('Label')\n",
        "plt.title('Actual vs. Predicted Labels (Training)' )\n",
        "plt.legend()\n",
        "\n",
        "plt.show()\n"
      ],
      "metadata": {
        "colab": {
          "base_uri": "https://localhost:8080/",
          "height": 573
        },
        "id": "csk7d65t_th_",
        "outputId": "169953be-a739-4fc8-cd15-9c4935eac4e9"
      },
      "execution_count": null,
      "outputs": [
        {
          "output_type": "display_data",
          "data": {
            "text/plain": [
              "<Figure size 1000x600 with 1 Axes>"
            ],
            "image/png": "[encoded data removed]"
          },
          "metadata": {}
        }
      ]
    }
  ],
  "metadata": {
    "colab": {
      "provenance": []
    },
    "kernelspec": {
      "display_name": "Python 3 (ipykernel)",
      "language": "python",
      "name": "python3"
    },
    "language_info": {
      "codemirror_mode": {
        "name": "ipython",
        "version": 3
      },
      "file_extension": ".py",
      "mimetype": "text/x-python",
      "name": "python",
      "nbconvert_exporter": "python",
      "pygments_lexer": "ipython3",
      "version": "3.9.13"
    }
  },
  "nbformat": 4,
  "nbformat_minor": 0
}